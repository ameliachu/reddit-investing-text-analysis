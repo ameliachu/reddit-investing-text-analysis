{
 "cells": [
  {
   "cell_type": "code",
   "execution_count": 10,
   "metadata": {},
   "outputs": [],
   "source": [
    "import os\n",
    "import pandas as pd\n",
    "\n",
    "home_directory = '/Users/ameliachu/Google Drive/Spring 2021/Text as Data/final_project'"
   ]
  },
  {
   "cell_type": "code",
   "execution_count": 2,
   "metadata": {},
   "outputs": [],
   "source": [
    "manifest_fname = \"curated_submission_manifest_gme_04-15-2021.csv\"\n",
    "data_directory = \"data/reddit\""
   ]
  },
  {
   "cell_type": "code",
   "execution_count": 9,
   "metadata": {},
   "outputs": [
    {
     "data": {
      "text/html": [
       "<div>\n",
       "<style scoped>\n",
       "    .dataframe tbody tr th:only-of-type {\n",
       "        vertical-align: middle;\n",
       "    }\n",
       "\n",
       "    .dataframe tbody tr th {\n",
       "        vertical-align: top;\n",
       "    }\n",
       "\n",
       "    .dataframe thead th {\n",
       "        text-align: right;\n",
       "    }\n",
       "</style>\n",
       "<table border=\"1\" class=\"dataframe\">\n",
       "  <thead>\n",
       "    <tr style=\"text-align: right;\">\n",
       "      <th></th>\n",
       "      <th>sub_created_utc</th>\n",
       "      <th>sub_id</th>\n",
       "      <th>sub_title</th>\n",
       "    </tr>\n",
       "  </thead>\n",
       "  <tbody>\n",
       "    <tr>\n",
       "      <th>8</th>\n",
       "      <td>1.611233e+09</td>\n",
       "      <td>l1xtan</td>\n",
       "      <td>GME Megathread - Lemon Party 2: Electric Boogaloo</td>\n",
       "    </tr>\n",
       "    <tr>\n",
       "      <th>39</th>\n",
       "      <td>1.611271e+09</td>\n",
       "      <td>l2a9vf</td>\n",
       "      <td>Shitty Luck: My refutation of every point Shit...</td>\n",
       "    </tr>\n",
       "    <tr>\n",
       "      <th>7</th>\n",
       "      <td>1.611596e+09</td>\n",
       "      <td>l4syrd</td>\n",
       "      <td>GME Megathread Part 2</td>\n",
       "    </tr>\n",
       "    <tr>\n",
       "      <th>14</th>\n",
       "      <td>1.611767e+09</td>\n",
       "      <td>l690w0</td>\n",
       "      <td>When the $GME train finally pulls in to the st...</td>\n",
       "    </tr>\n",
       "    <tr>\n",
       "      <th>15</th>\n",
       "      <td>1.611782e+09</td>\n",
       "      <td>l6eijh</td>\n",
       "      <td>GME Feel-Good posts MEGATHREAD! We'll have the...</td>\n",
       "    </tr>\n",
       "  </tbody>\n",
       "</table>\n",
       "</div>"
      ],
      "text/plain": [
       "    sub_created_utc  sub_id                                          sub_title\n",
       "8      1.611233e+09  l1xtan  GME Megathread - Lemon Party 2: Electric Boogaloo\n",
       "39     1.611271e+09  l2a9vf  Shitty Luck: My refutation of every point Shit...\n",
       "7      1.611596e+09  l4syrd                              GME Megathread Part 2\n",
       "14     1.611767e+09  l690w0  When the $GME train finally pulls in to the st...\n",
       "15     1.611782e+09  l6eijh  GME Feel-Good posts MEGATHREAD! We'll have the..."
      ]
     },
     "execution_count": 9,
     "metadata": {},
     "output_type": "execute_result"
    }
   ],
   "source": [
    "manifest_path = f\"{home_directory}/{data_directory}/{manifest_fname}\"\n",
    "manifest =  pd.read_csv(manifest_path)\n",
    "manifest.sort_values(by=\"sub_created_utc\").head(5)"
   ]
  },
  {
   "cell_type": "code",
   "execution_count": 17,
   "metadata": {},
   "outputs": [
    {
     "name": "stdout",
     "output_type": "stream",
     "text": [
      "We still need: l4syrd, lm7n51, m16emz\n"
     ]
    }
   ],
   "source": [
    "# Determining what we have collected thus far\n",
    "gme_raw_data_path = f\"{home_directory}/{data_directory}/gme/\"\n",
    "gme_fnames = [f for f in os.listdir(gme_raw_data_path) if os.path.isfile(os.path.join(gme_raw_data_path, f))]\n",
    "\n",
    "existing_sub_ids = [fname.split('.')[0].split('_')[-1] for fname in gme_fnames]\n",
    "# print(existing_sub_ids)\n",
    "remaining_sub_ids = set(manifest['sub_id']) - set(existing_sub_ids)\n",
    "remaining_sub_ids_str = \", \".join(remaining_sub_ids)\n",
    "print(f\"We still need: {remaining_sub_ids_str}\")"
   ]
  },
  {
   "cell_type": "markdown",
   "metadata": {},
   "source": [
    "Search for Submission Name "
   ]
  },
  {
   "cell_type": "code",
   "execution_count": null,
   "metadata": {},
   "outputs": [],
   "source": [
    "manifest_path = f\"{home_directory}/{data_directory}/curated_submission_manifest_daily_04-15-2021.csv\"\n",
    "x = pd.read_csv(manifest_path)\n",
    "x[x['sub_id']=='l6u011']"
   ]
  },
  {
   "cell_type": "code",
   "execution_count": 19,
   "metadata": {},
   "outputs": [
    {
     "data": {
      "text/plain": [
       "44"
      ]
     },
     "execution_count": 19,
     "metadata": {},
     "output_type": "execute_result"
    }
   ],
   "source": [
    "manifest['sub_id'].nunique()"
   ]
  }
 ],
 "metadata": {
  "kernelspec": {
   "display_name": "Python 3",
   "language": "python",
   "name": "python3"
  },
  "language_info": {
   "codemirror_mode": {
    "name": "ipython",
    "version": 3
   },
   "file_extension": ".py",
   "mimetype": "text/x-python",
   "name": "python",
   "nbconvert_exporter": "python",
   "pygments_lexer": "ipython3",
   "version": "3.8.3"
  }
 },
 "nbformat": 4,
 "nbformat_minor": 4
}
