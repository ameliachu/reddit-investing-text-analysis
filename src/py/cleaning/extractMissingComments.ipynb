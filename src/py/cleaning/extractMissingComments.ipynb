{
 "cells": [
  {
   "cell_type": "code",
   "execution_count": 4,
   "metadata": {},
   "outputs": [
    {
     "name": "stdout",
     "output_type": "stream",
     "text": [
      "a ['b', 'c', 'd', 'e']\n"
     ]
    }
   ],
   "source": [
    "s = 'abcde'\n",
    "s_list = list(s)\n",
    "derp = s_list.pop(0)\n",
    "print(derp, s_list)"
   ]
  },
  {
   "cell_type": "code",
   "execution_count": 10,
   "metadata": {},
   "outputs": [],
   "source": [
    "s = \"leetcode\""
   ]
  },
  {
   "cell_type": "code",
   "execution_count": 20,
   "metadata": {},
   "outputs": [
    {
     "data": {
      "text/plain": [
       "{'e': 1}"
      ]
     },
     "execution_count": 20,
     "metadata": {},
     "output_type": "execute_result"
    }
   ],
   "source": [
    "cntr "
   ]
  },
  {
   "cell_type": "code",
   "execution_count": 19,
   "metadata": {},
   "outputs": [],
   "source": [
    "\n",
    "s_list = list(s)\n",
    "counter = 1\n",
    "prev_c = s_list[0]\n",
    "cntr = {prev_c:1}\n",
    "\n"
   ]
  },
  {
   "cell_type": "code",
   "execution_count": null,
   "metadata": {},
   "outputs": [],
   "source": [
    "s_list = list(s)\n",
    "prev_c = s_list[0]\n",
    "cntr = {prev_c:1}\n",
    "counter = 1\n",
    "for c in s_list[1:]:\n",
    "    if c == prev_c:\n",
    "        counter += 1\n",
    "        \n",
    "    \n",
    "        "
   ]
  },
  {
   "cell_type": "code",
   "execution_count": 36,
   "metadata": {},
   "outputs": [],
   "source": [
    "s = \"yxdxwnjstjqqdgauhnnqcxxulvbulumwfrmgbbplfummzpftoswjlskhzvyidufziaabcygmtiyksmxzaapdwezyzwvqwfffxcqxmgixjendhjmptljcptfupktrmonffzfsndcggihxjfhlgdqnnbvqxizviskqlupuquikfnprylrjrzptvwuvwguhmypqwwgfthjeuqjhqpauliafrjoqyrecxyvuougm\""
   ]
  },
  {
   "cell_type": "code",
   "execution_count": 46,
   "metadata": {},
   "outputs": [],
   "source": [
    "s = \"fffsdff\""
   ]
  },
  {
   "cell_type": "code",
   "execution_count": 47,
   "metadata": {},
   "outputs": [
    {
     "data": {
      "text/plain": [
       "{'f': 2, 's': 1, 'd': 1}"
      ]
     },
     "execution_count": 47,
     "metadata": {},
     "output_type": "execute_result"
    }
   ],
   "source": [
    "s_list = list(s)\n",
    "prev_c = s_list[0]\n",
    "cntr = {prev_c:1}\n",
    "counter = 1\n",
    "\n",
    "for c in s_list[1:]:\n",
    "    if c == prev_c:\n",
    "        counter += 1\n",
    "        cntr[prev_c] = counter\n",
    "    else:\n",
    "        if prev_c in cntr.keys():\n",
    "            if cntr[prev_c] < counter:\n",
    "                cntr[prev_c] = counter\n",
    "        else:\n",
    "            cntr[prev_c] = counter\n",
    "        counter = 1\n",
    "    prev_c = c\n",
    "cntr"
   ]
  },
  {
   "cell_type": "code",
   "execution_count": 28,
   "metadata": {},
   "outputs": [
    {
     "data": {
      "text/plain": [
       "{'l': 1, 'e': 2, 't': 1, 'c': 1, 'o': 1, 'd': 1}"
      ]
     },
     "execution_count": 28,
     "metadata": {},
     "output_type": "execute_result"
    }
   ],
   "source": [
    "cntr "
   ]
  },
  {
   "cell_type": "code",
   "execution_count": 48,
   "metadata": {},
   "outputs": [
    {
     "ename": "IndexError",
     "evalue": "list index out of range",
     "output_type": "error",
     "traceback": [
      "\u001b[0;31m---------------------------------------------------------------------------\u001b[0m",
      "\u001b[0;31mIndexError\u001b[0m                                Traceback (most recent call last)",
      "\u001b[0;32m<ipython-input-48-e1edd35c6732>\u001b[0m in \u001b[0;36m<module>\u001b[0;34m\u001b[0m\n\u001b[1;32m      1\u001b[0m \u001b[0mr\u001b[0m\u001b[0;34m=\u001b[0m\u001b[0;34m[\u001b[0m\u001b[0;36m1\u001b[0m\u001b[0;34m,\u001b[0m\u001b[0;36m2\u001b[0m\u001b[0;34m,\u001b[0m\u001b[0;36m3\u001b[0m\u001b[0;34m]\u001b[0m\u001b[0;34m\u001b[0m\u001b[0;34m\u001b[0m\u001b[0m\n\u001b[0;32m----> 2\u001b[0;31m \u001b[0mr\u001b[0m\u001b[0;34m[\u001b[0m\u001b[0;36m4\u001b[0m\u001b[0;34m]\u001b[0m\u001b[0;34m\u001b[0m\u001b[0;34m\u001b[0m\u001b[0m\n\u001b[0m",
      "\u001b[0;31mIndexError\u001b[0m: list index out of range"
     ]
    }
   ],
   "source": [
    "r=[1,2,3]\n",
    "r[4]"
   ]
  },
  {
   "cell_type": "code",
   "execution_count": 9,
   "metadata": {},
   "outputs": [],
   "source": [
    "target = [1,3,4,6,7,8]\n",
    "n = 9"
   ]
  },
  {
   "cell_type": "code",
   "execution_count": 11,
   "metadata": {},
   "outputs": [
    {
     "name": "stdout",
     "output_type": "stream",
     "text": [
      "1\n",
      "[1]\n",
      "2\n",
      "[1, 2]\n",
      "[1]\n",
      "3\n",
      "[1, 3]\n",
      "4\n",
      "[1, 3, 4]\n",
      "5\n",
      "[1, 3, 4, 5]\n",
      "[1, 3, 4]\n",
      "6\n",
      "[1, 3, 4, 6]\n",
      "7\n",
      "[1, 3, 4, 6, 7]\n",
      "8\n",
      "[1, 3, 4, 6, 7, 8]\n"
     ]
    }
   ],
   "source": [
    "l = [i+1 for i in range(n)]\n",
    "new_target = []\n",
    "output = []\n",
    "for i in l:\n",
    "    print(i)\n",
    "    output.append(\"push\")\n",
    "    new_target.append(i)\n",
    "    print(new_target)\n",
    "    if i not in target:\n",
    "        new_target.pop(-1)\n",
    "        print(new_target)\n",
    "        output.append(\"pop\")\n",
    "    if new_target == target:\n",
    "        break\n",
    "        \n",
    "#return output"
   ]
  },
  {
   "cell_type": "code",
   "execution_count": 12,
   "metadata": {},
   "outputs": [
    {
     "ename": "AttributeError",
     "evalue": "'str' object has no attribute 'reverse'",
     "output_type": "error",
     "traceback": [
      "\u001b[0;31m---------------------------------------------------------------------------\u001b[0m",
      "\u001b[0;31mAttributeError\u001b[0m                            Traceback (most recent call last)",
      "\u001b[0;32m<ipython-input-12-0308d1b0b37f>\u001b[0m in \u001b[0;36m<module>\u001b[0;34m\u001b[0m\n\u001b[0;32m----> 1\u001b[0;31m \u001b[0;34m\"dsf\"\u001b[0m\u001b[0;34m.\u001b[0m\u001b[0mreverse\u001b[0m\u001b[0;34m(\u001b[0m\u001b[0;34m)\u001b[0m\u001b[0;34m\u001b[0m\u001b[0;34m\u001b[0m\u001b[0m\n\u001b[0m",
      "\u001b[0;31mAttributeError\u001b[0m: 'str' object has no attribute 'reverse'"
     ]
    }
   ],
   "source": [
    "\"dsf\".reverse()"
   ]
  },
  {
   "cell_type": "code",
   "execution_count": null,
   "metadata": {},
   "outputs": [],
   "source": [
    "s_list = list(s)\n",
    "prev_c = s_list[0]\n",
    "cntr = {prev_c:1}\n",
    "counter = 1\n",
    "\n",
    "for c in s_list[1:]:\n",
    "    if c == prev_c:\n",
    "        counter += 1\n",
    "    else:\n",
    "        if counter\n",
    "    if prev_c in cntr.keys():\n",
    "        pass\n",
    "    else:\n",
    "        cntr[prev_c] = counter\n",
    "    \n",
    "        "
   ]
  }
 ],
 "metadata": {
  "kernelspec": {
   "display_name": "Python 3",
   "language": "python",
   "name": "python3"
  },
  "language_info": {
   "codemirror_mode": {
    "name": "ipython",
    "version": 3
   },
   "file_extension": ".py",
   "mimetype": "text/x-python",
   "name": "python",
   "nbconvert_exporter": "python",
   "pygments_lexer": "ipython3",
   "version": "3.8.3"
  }
 },
 "nbformat": 4,
 "nbformat_minor": 4
}
