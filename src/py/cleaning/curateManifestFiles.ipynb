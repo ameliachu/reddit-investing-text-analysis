{
 "cells": [
  {
   "cell_type": "code",
   "execution_count": 1,
   "metadata": {},
   "outputs": [],
   "source": [
    "import datetime as dt\n",
    "import pandas as pd"
   ]
  },
  {
   "cell_type": "code",
   "execution_count": 2,
   "metadata": {},
   "outputs": [],
   "source": [
    "manifest_directory = \"/Users/ameliachu/Google Drive/Spring 2021/Text as Data/final_project/data/reddit\"\n",
    "file_list = {\n",
    "    \"weekend\" : \"submission_manifest_weekend_04-15-2021.csv\",\n",
    "    \"daily\": \"submission_manifest_daily_04-15-2021.csv\",\n",
    "    \"gme\": \"submission_manifest_gme_04-15-2021.csv\"}"
   ]
  },
  {
   "cell_type": "code",
   "execution_count": 3,
   "metadata": {},
   "outputs": [
    {
     "name": "stdout",
     "output_type": "stream",
     "text": [
      "63 16\n",
      "/Users/ameliachu/Google Drive/Spring 2021/Text as Data/final_project/data/reddit/curated_submission_manifest_weekend_04-15-2021.csv\n",
      "100 85\n",
      "/Users/ameliachu/Google Drive/Spring 2021/Text as Data/final_project/data/reddit/curated_submission_manifest_daily_04-15-2021.csv\n",
      "45 44\n",
      "/Users/ameliachu/Google Drive/Spring 2021/Text as Data/final_project/data/reddit/curated_submission_manifest_gme_04-15-2021.csv\n"
     ]
    }
   ],
   "source": [
    "collection_start_dt = dt.datetime(2021,1,9)\n",
    "collection_start = dt.datetime.timestamp(collection_start_dt)\n",
    "# dt.datetime.utcfromtimestamp(submission['sub_created_utc'][0])\n",
    "for query_type  in file_list.keys():\n",
    "    manifest_path = f\"{manifest_directory}/{file_list[query_type]}\"\n",
    "    manifest = pd.read_csv(manifest_path)\n",
    "    new_manifest = manifest[manifest['sub_created_utc'] > collection_start]\n",
    "    print(manifest['sub_id'].count(), new_manifest['sub_id'].count())\n",
    "    curated_fname = f\"curated_{file_list[query_type]}\"\n",
    "    curated_path = f\"{manifest_directory}/{curated_fname}\"\n",
    "    print(curated_path)\n",
    "    new_manifest.to_csv(curated_path, index=False)"
   ]
  },
  {
   "cell_type": "code",
   "execution_count": null,
   "metadata": {},
   "outputs": [],
   "source": [
    " new_manifest"
   ]
  },
  {
   "cell_type": "code",
   "execution_count": null,
   "metadata": {},
   "outputs": [],
   "source": [
    "curated_path"
   ]
  },
  {
   "cell_type": "code",
   "execution_count": 5,
   "metadata": {},
   "outputs": [
    {
     "data": {
      "text/plain": [
       "1"
      ]
     },
     "execution_count": 5,
     "metadata": {},
     "output_type": "execute_result"
    }
   ],
   "source": [
    "list()[0]"
   ]
  },
  {
   "cell_type": "code",
   "execution_count": 15,
   "metadata": {},
   "outputs": [
    {
     "data": {
      "text/plain": [
       "3"
      ]
     },
     "execution_count": 15,
     "metadata": {},
     "output_type": "execute_result"
    }
   ],
   "source": [
    "n = 4\n",
    "trust = [[1,3],[1,4],[2,3],[2,4],[4,3]]\n",
    "(list(zip(*trust))[1]).count(3)"
   ]
  },
  {
   "cell_type": "code",
   "execution_count": 18,
   "metadata": {},
   "outputs": [
    {
     "name": "stdout",
     "output_type": "stream",
     "text": [
      "1\n"
     ]
    }
   ],
   "source": [
    "\n",
    "for i in range(1, round(area/2)+2):\n",
    "    print(i)"
   ]
  },
  {
   "cell_type": "code",
   "execution_count": 21,
   "metadata": {},
   "outputs": [
    {
     "name": "stdout",
     "output_type": "stream",
     "text": [
      "3\n",
      "2\n",
      "1\n",
      "0\n"
     ]
    }
   ],
   "source": [
    "area = 9\n",
    "for i in range(int(area**.5),-1,-1):\n",
    "     print(i)"
   ]
  },
  {
   "cell_type": "code",
   "execution_count": 25,
   "metadata": {},
   "outputs": [
    {
     "name": "stdout",
     "output_type": "stream",
     "text": [
      "3\n",
      "2\n",
      "1\n"
     ]
    }
   ],
   "source": [
    "area = 9\n",
    "for i in range(int(area**.5),0,-1):\n",
    "    print(i)"
   ]
  },
  {
   "cell_type": "code",
   "execution_count": null,
   "metadata": {},
   "outputs": [],
   "source": []
  }
 ],
 "metadata": {
  "kernelspec": {
   "display_name": "Python 3",
   "language": "python",
   "name": "python3"
  },
  "language_info": {
   "codemirror_mode": {
    "name": "ipython",
    "version": 3
   },
   "file_extension": ".py",
   "mimetype": "text/x-python",
   "name": "python",
   "nbconvert_exporter": "python",
   "pygments_lexer": "ipython3",
   "version": "3.8.3"
  }
 },
 "nbformat": 4,
 "nbformat_minor": 4
}
