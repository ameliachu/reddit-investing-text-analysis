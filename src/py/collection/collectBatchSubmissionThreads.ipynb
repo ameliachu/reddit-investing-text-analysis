{
 "cells": [
  {
   "cell_type": "code",
   "execution_count": 1,
   "metadata": {},
   "outputs": [],
   "source": [
    "import datetime as dt\n",
    "import json\n",
    "import praw\n",
    "from praw.models import Redditor\n",
    "import pandas as pd\n",
    "\n",
    "# change to own, recommend burner reddit account\n",
    "with open('creds.json') as json_file:\n",
    "    creds = json.load(json_file)\n",
    "    \n",
    "reddit = praw.Reddit(**creds)\n",
    "\n",
    "reddit.config.ratelimit_seconds = 60\n",
    "\n",
    "target_subreddit = 'wallstreetbets'\n",
    "\n",
    "queries = {\n",
    "    'daily': '\"Daily Discussion Thread\"',\n",
    "    'weekend': '\"Weekend Discussion Thread\"',\n",
    "    'gme': '\"GME\" and \"Megathread\"'}\n",
    "\n",
    "today_date = dt.datetime.today().strftime(\"%m-%d-%Y\")\n",
    "data_directory = '/Users/ameliachu/Google Drive/Spring 2021/Text as Data/final_project/data/reddit'"
   ]
  },
  {
   "cell_type": "code",
   "execution_count": 2,
   "metadata": {},
   "outputs": [],
   "source": [
    "def getSubmissionManifest(query, period='week'):\n",
    "    subreddit = reddit.subreddit(target_subreddit)\n",
    "    wsb_results = subreddit.search(query, time_filter='year')\n",
    "    sub_list = list(map(lambda s: (s.created_utc, s.id, s.title), wsb_results))\n",
    "    submission_ids = [row[1] for row in sub_list]\n",
    "    submission = pd.DataFrame(sub_list, columns=['sub_created_utc','sub_id', 'sub_title'])\n",
    "    return submission, submission_ids"
   ]
  },
  {
   "cell_type": "code",
   "execution_count": 3,
   "metadata": {},
   "outputs": [
    {
     "name": "stdout",
     "output_type": "stream",
     "text": [
      "/Users/ameliachu/Google Drive/Spring 2021/Text as Data/final_project/data/reddit/submission_manifest_daily_04-15-2021.csv\n"
     ]
    }
   ],
   "source": [
    "query_type = 'daily'\n",
    "\n",
    "submission, submission_ids = getSubmissionManifest(queries[query_type], period='year')\n",
    "\n",
    "manifest_fname = f'submission_manifest_{query_type}_{today_date}.csv'\n",
    "manifest_path = f'{data_directory}/{manifest_fname}'\n",
    "print(manifest_path)\n",
    "submission.to_csv(manifest_path, index=False)"
   ]
  },
  {
   "cell_type": "code",
   "execution_count": 4,
   "metadata": {},
   "outputs": [
    {
     "name": "stdout",
     "output_type": "stream",
     "text": [
      "/Users/ameliachu/Google Drive/Spring 2021/Text as Data/final_project/data/reddit/submission_manifest_weekend_04-15-2021.csv\n"
     ]
    }
   ],
   "source": [
    "query_type = 'weekend'\n",
    "\n",
    "submission, submission_ids = getSubmissionManifest(queries[query_type], period='year')\n",
    "manifest_fname = f'submission_manifest_{query_type}_{today_date}.csv'\n",
    "manifest_path = f'{data_directory}/{manifest_fname}'\n",
    "print(manifest_path)\n",
    "submission.to_csv(manifest_path, index=False)"
   ]
  },
  {
   "cell_type": "code",
   "execution_count": 5,
   "metadata": {},
   "outputs": [
    {
     "name": "stdout",
     "output_type": "stream",
     "text": [
      "/Users/ameliachu/Google Drive/Spring 2021/Text as Data/final_project/data/reddit/submission_manifest_gme_04-15-2021.csv\n"
     ]
    }
   ],
   "source": [
    "# dt.datetime.utcfromtimestamp(submission['sub_created_utc'][0])\n",
    "query_type = 'gme'\n",
    "\n",
    "submission, submission_ids = getSubmissionManifest(queries[query_type], period='year')\n",
    "today_date = dt.datetime.today().strftime(\"%m-%d-%Y\")\n",
    "manifest_fname = f'submission_manifest_{query_type}_{today_date}.csv'\n",
    "manifest_path = f'{data_directory}/{manifest_fname}'\n",
    "print(manifest_path)\n",
    "submission.to_csv(manifest_path, index=False)"
   ]
  },
  {
   "cell_type": "code",
   "execution_count": 6,
   "metadata": {},
   "outputs": [
    {
     "data": {
      "text/html": [
       "<div>\n",
       "<style scoped>\n",
       "    .dataframe tbody tr th:only-of-type {\n",
       "        vertical-align: middle;\n",
       "    }\n",
       "\n",
       "    .dataframe tbody tr th {\n",
       "        vertical-align: top;\n",
       "    }\n",
       "\n",
       "    .dataframe thead th {\n",
       "        text-align: right;\n",
       "    }\n",
       "</style>\n",
       "<table border=\"1\" class=\"dataframe\">\n",
       "  <thead>\n",
       "    <tr style=\"text-align: right;\">\n",
       "      <th></th>\n",
       "      <th>sub_created_utc</th>\n",
       "      <th>sub_id</th>\n",
       "      <th>sub_title</th>\n",
       "    </tr>\n",
       "  </thead>\n",
       "  <tbody>\n",
       "    <tr>\n",
       "      <th>0</th>\n",
       "      <td>1.617021e+09</td>\n",
       "      <td>mfoivk</td>\n",
       "      <td>GME Megathread for March 29, 2021</td>\n",
       "    </tr>\n",
       "    <tr>\n",
       "      <th>1</th>\n",
       "      <td>1.615297e+09</td>\n",
       "      <td>m16emz</td>\n",
       "      <td>GME Megathread for March 09, 2021</td>\n",
       "    </tr>\n",
       "    <tr>\n",
       "      <th>2</th>\n",
       "      <td>1.615210e+09</td>\n",
       "      <td>m0fpgd</td>\n",
       "      <td>GME Megathread for March 08, 2021</td>\n",
       "    </tr>\n",
       "    <tr>\n",
       "      <th>3</th>\n",
       "      <td>1.614865e+09</td>\n",
       "      <td>lxkint</td>\n",
       "      <td>GME Megathread for March 04, 2021</td>\n",
       "    </tr>\n",
       "    <tr>\n",
       "      <th>4</th>\n",
       "      <td>1.614951e+09</td>\n",
       "      <td>lybuq0</td>\n",
       "      <td>GME Megathread for March 05, 2021</td>\n",
       "    </tr>\n",
       "  </tbody>\n",
       "</table>\n",
       "</div>"
      ],
      "text/plain": [
       "   sub_created_utc  sub_id                          sub_title\n",
       "0     1.617021e+09  mfoivk  GME Megathread for March 29, 2021\n",
       "1     1.615297e+09  m16emz  GME Megathread for March 09, 2021\n",
       "2     1.615210e+09  m0fpgd  GME Megathread for March 08, 2021\n",
       "3     1.614865e+09  lxkint  GME Megathread for March 04, 2021\n",
       "4     1.614951e+09  lybuq0  GME Megathread for March 05, 2021"
      ]
     },
     "execution_count": 6,
     "metadata": {},
     "output_type": "execute_result"
    }
   ],
   "source": [
    "submission.head(5)"
   ]
  },
  {
   "cell_type": "code",
   "execution_count": null,
   "metadata": {},
   "outputs": [],
   "source": []
  }
 ],
 "metadata": {
  "kernelspec": {
   "display_name": "Python 3",
   "language": "python",
   "name": "python3"
  },
  "language_info": {
   "codemirror_mode": {
    "name": "ipython",
    "version": 3
   },
   "file_extension": ".py",
   "mimetype": "text/x-python",
   "name": "python",
   "nbconvert_exporter": "python",
   "pygments_lexer": "ipython3",
   "version": "3.8.3"
  }
 },
 "nbformat": 4,
 "nbformat_minor": 4
}
