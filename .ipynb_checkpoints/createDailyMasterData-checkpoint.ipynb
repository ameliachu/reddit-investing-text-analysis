{
 "cells": [
  {
   "cell_type": "code",
   "execution_count": 1,
   "metadata": {},
   "outputs": [],
   "source": [
    "home_directory = \"/Volumes/GoogleDrive/My Drive/Spring 2021/Text as Data/final_project/\"\n",
    "data_directory = \"data/reddit\""
   ]
  },
  {
   "cell_type": "code",
   "execution_count": 8,
   "metadata": {},
   "outputs": [],
   "source": [
    "import os\n",
    "import pandas as pd "
   ]
  },
  {
   "cell_type": "code",
   "execution_count": 3,
   "metadata": {},
   "outputs": [],
   "source": [
    "raw_data_dir = f\"{home_directory}{data_directory}\""
   ]
  },
  {
   "cell_type": "code",
   "execution_count": 7,
   "metadata": {},
   "outputs": [],
   "source": [
    "daily_discussion_fnames = [f for f in os.listdir(raw_data_dir) if  f.startswith('comments_daily_')]"
   ]
  },
  {
   "cell_type": "code",
   "execution_count": 9,
   "metadata": {},
   "outputs": [],
   "source": [
    "daily_dfs = [pd.read_csv(f\"{raw_data_dir}/{fname}\") for fname in daily_discussion_fnames]"
   ]
  },
  {
   "cell_type": "code",
   "execution_count": 10,
   "metadata": {},
   "outputs": [],
   "source": [
    "full_daily_dataset = pd.concat(daily_dfs)"
   ]
  },
  {
   "cell_type": "code",
   "execution_count": 11,
   "metadata": {},
   "outputs": [
    {
     "data": {
      "text/html": [
       "<div>\n",
       "<style scoped>\n",
       "    .dataframe tbody tr th:only-of-type {\n",
       "        vertical-align: middle;\n",
       "    }\n",
       "\n",
       "    .dataframe tbody tr th {\n",
       "        vertical-align: top;\n",
       "    }\n",
       "\n",
       "    .dataframe thead th {\n",
       "        text-align: right;\n",
       "    }\n",
       "</style>\n",
       "<table border=\"1\" class=\"dataframe\">\n",
       "  <thead>\n",
       "    <tr style=\"text-align: right;\">\n",
       "      <th></th>\n",
       "      <th>sub_id</th>\n",
       "      <th>body</th>\n",
       "      <th>score</th>\n",
       "      <th>author</th>\n",
       "      <th>created_utc</th>\n",
       "      <th>Unnamed: 0</th>\n",
       "    </tr>\n",
       "  </thead>\n",
       "  <tbody>\n",
       "    <tr>\n",
       "      <th>0</th>\n",
       "      <td>mqndra</td>\n",
       "      <td>I am unhappy with the change. I think it's a m...</td>\n",
       "      <td>1</td>\n",
       "      <td>zjz</td>\n",
       "      <td>1.618423e+09</td>\n",
       "      <td>NaN</td>\n",
       "    </tr>\n",
       "    <tr>\n",
       "      <th>1</th>\n",
       "      <td>mqndra</td>\n",
       "      <td>If my 8 months of experience of gambling on th...</td>\n",
       "      <td>163</td>\n",
       "      <td>whitesquirrle</td>\n",
       "      <td>1.618399e+09</td>\n",
       "      <td>NaN</td>\n",
       "    </tr>\n",
       "    <tr>\n",
       "      <th>2</th>\n",
       "      <td>mqndra</td>\n",
       "      <td>Palantired of this shit</td>\n",
       "      <td>84</td>\n",
       "      <td>24kSolidGold</td>\n",
       "      <td>1.618420e+09</td>\n",
       "      <td>NaN</td>\n",
       "    </tr>\n",
       "    <tr>\n",
       "      <th>3</th>\n",
       "      <td>mqndra</td>\n",
       "      <td>Puts on my Tesla puts</td>\n",
       "      <td>78</td>\n",
       "      <td>Pumpty_Dumpty</td>\n",
       "      <td>1.618397e+09</td>\n",
       "      <td>NaN</td>\n",
       "    </tr>\n",
       "    <tr>\n",
       "      <th>4</th>\n",
       "      <td>mqndra</td>\n",
       "      <td>Is it really possible for PLTR to be green twi...</td>\n",
       "      <td>72</td>\n",
       "      <td>HelloWorld0921</td>\n",
       "      <td>1.618404e+09</td>\n",
       "      <td>NaN</td>\n",
       "    </tr>\n",
       "  </tbody>\n",
       "</table>\n",
       "</div>"
      ],
      "text/plain": [
       "   sub_id                                               body  score  \\\n",
       "0  mqndra  I am unhappy with the change. I think it's a m...      1   \n",
       "1  mqndra  If my 8 months of experience of gambling on th...    163   \n",
       "2  mqndra                            Palantired of this shit     84   \n",
       "3  mqndra                              Puts on my Tesla puts     78   \n",
       "4  mqndra  Is it really possible for PLTR to be green twi...     72   \n",
       "\n",
       "           author   created_utc  Unnamed: 0  \n",
       "0             zjz  1.618423e+09         NaN  \n",
       "1   whitesquirrle  1.618399e+09         NaN  \n",
       "2    24kSolidGold  1.618420e+09         NaN  \n",
       "3   Pumpty_Dumpty  1.618397e+09         NaN  \n",
       "4  HelloWorld0921  1.618404e+09         NaN  "
      ]
     },
     "execution_count": 11,
     "metadata": {},
     "output_type": "execute_result"
    }
   ],
   "source": [
    "full_daily_dataset.head(5)"
   ]
  },
  {
   "cell_type": "code",
   "execution_count": 15,
   "metadata": {},
   "outputs": [
    {
     "data": {
      "text/plain": [
       "632638"
      ]
     },
     "execution_count": 15,
     "metadata": {},
     "output_type": "execute_result"
    }
   ],
   "source": [
    "full_daily_dataset.count()[0]"
   ]
  },
  {
   "cell_type": "code",
   "execution_count": 12,
   "metadata": {},
   "outputs": [],
   "source": [
    "comment_exclusion = ['[deleted]', '[removed]']\n",
    "\n",
    "cleaned_data = full_daily_dataset[~full_daily_dataset['body'].isin(comment_exclusion)]"
   ]
  },
  {
   "cell_type": "code",
   "execution_count": 16,
   "metadata": {},
   "outputs": [
    {
     "data": {
      "text/plain": [
       "619646"
      ]
     },
     "execution_count": 16,
     "metadata": {},
     "output_type": "execute_result"
    }
   ],
   "source": [
    "cleaned_data.count()[0]"
   ]
  },
  {
   "cell_type": "code",
   "execution_count": 21,
   "metadata": {},
   "outputs": [],
   "source": [
    "min_date_arr, max_date_arr = list(cleaned_data.agg({\"created_utc\": [\"min\", \"max\"]}).values)"
   ]
  },
  {
   "cell_type": "code",
   "execution_count": 22,
   "metadata": {},
   "outputs": [],
   "source": [
    "min_date = min_date_arr[0]\n",
    "max_date = max_date_arr[0]"
   ]
  },
  {
   "cell_type": "code",
   "execution_count": 24,
   "metadata": {},
   "outputs": [
    {
     "data": {
      "text/plain": [
       "(1614250838.0, 1618692612.0)"
      ]
     },
     "execution_count": 24,
     "metadata": {},
     "output_type": "execute_result"
    }
   ],
   "source": [
    "min_date, max_date"
   ]
  },
  {
   "cell_type": "code",
   "execution_count": 25,
   "metadata": {},
   "outputs": [],
   "source": [
    "sorted_cleaned_dataset = cleaned_data.sort_values(by=['sub_id','created_utc']).reset_index(drop=True)"
   ]
  },
  {
   "cell_type": "code",
   "execution_count": 26,
   "metadata": {},
   "outputs": [
    {
     "data": {
      "text/html": [
       "<div>\n",
       "<style scoped>\n",
       "    .dataframe tbody tr th:only-of-type {\n",
       "        vertical-align: middle;\n",
       "    }\n",
       "\n",
       "    .dataframe tbody tr th {\n",
       "        vertical-align: top;\n",
       "    }\n",
       "\n",
       "    .dataframe thead th {\n",
       "        text-align: right;\n",
       "    }\n",
       "</style>\n",
       "<table border=\"1\" class=\"dataframe\">\n",
       "  <thead>\n",
       "    <tr style=\"text-align: right;\">\n",
       "      <th></th>\n",
       "      <th>sub_id</th>\n",
       "      <th>body</th>\n",
       "      <th>score</th>\n",
       "      <th>author</th>\n",
       "      <th>created_utc</th>\n",
       "      <th>Unnamed: 0</th>\n",
       "    </tr>\n",
       "  </thead>\n",
       "  <tbody>\n",
       "    <tr>\n",
       "      <th>0</th>\n",
       "      <td>ls42x6</td>\n",
       "      <td>first</td>\n",
       "      <td>7</td>\n",
       "      <td>I_make_switch_a_roos</td>\n",
       "      <td>1.614251e+09</td>\n",
       "      <td>13372.0</td>\n",
       "    </tr>\n",
       "    <tr>\n",
       "      <th>1</th>\n",
       "      <td>ls42x6</td>\n",
       "      <td>Rise and shine bitches</td>\n",
       "      <td>41</td>\n",
       "      <td>LitenVarg</td>\n",
       "      <td>1.614251e+09</td>\n",
       "      <td>304.0</td>\n",
       "    </tr>\n",
       "    <tr>\n",
       "      <th>2</th>\n",
       "      <td>ls42x6</td>\n",
       "      <td>Here we go. 🚀</td>\n",
       "      <td>14</td>\n",
       "      <td>readingtostrangers</td>\n",
       "      <td>1.614251e+09</td>\n",
       "      <td>581.0</td>\n",
       "    </tr>\n",
       "    <tr>\n",
       "      <th>3</th>\n",
       "      <td>ls42x6</td>\n",
       "      <td>GME to 420.69 EOD</td>\n",
       "      <td>14</td>\n",
       "      <td>wottsraja</td>\n",
       "      <td>1.614251e+09</td>\n",
       "      <td>8523.0</td>\n",
       "    </tr>\n",
       "    <tr>\n",
       "      <th>4</th>\n",
       "      <td>ls42x6</td>\n",
       "      <td>Second retard</td>\n",
       "      <td>2</td>\n",
       "      <td>AceSouth</td>\n",
       "      <td>1.614251e+09</td>\n",
       "      <td>13391.0</td>\n",
       "    </tr>\n",
       "    <tr>\n",
       "      <th>...</th>\n",
       "      <td>...</td>\n",
       "      <td>...</td>\n",
       "      <td>...</td>\n",
       "      <td>...</td>\n",
       "      <td>...</td>\n",
       "      <td>...</td>\n",
       "    </tr>\n",
       "    <tr>\n",
       "      <th>619641</th>\n",
       "      <td>mqndra</td>\n",
       "      <td>Fuck you spacemobile ASTS</td>\n",
       "      <td>1</td>\n",
       "      <td>fickdichdock</td>\n",
       "      <td>1.618587e+09</td>\n",
       "      <td>NaN</td>\n",
       "    </tr>\n",
       "    <tr>\n",
       "      <th>619642</th>\n",
       "      <td>mqndra</td>\n",
       "      <td>:( I guess if we hit 15k midway through that’l...</td>\n",
       "      <td>1</td>\n",
       "      <td>BoughtreeFidee</td>\n",
       "      <td>1.618588e+09</td>\n",
       "      <td>NaN</td>\n",
       "    </tr>\n",
       "    <tr>\n",
       "      <th>619643</th>\n",
       "      <td>mqndra</td>\n",
       "      <td>Oof. You buying yet!? Lol</td>\n",
       "      <td>1</td>\n",
       "      <td>jungl3_junki3</td>\n",
       "      <td>1.618588e+09</td>\n",
       "      <td>NaN</td>\n",
       "    </tr>\n",
       "    <tr>\n",
       "      <th>619644</th>\n",
       "      <td>mqndra</td>\n",
       "      <td>I actually would, but I can't babysit it today...</td>\n",
       "      <td>1</td>\n",
       "      <td>NrdRage</td>\n",
       "      <td>1.618589e+09</td>\n",
       "      <td>NaN</td>\n",
       "    </tr>\n",
       "    <tr>\n",
       "      <th>619645</th>\n",
       "      <td>mqndra</td>\n",
       "      <td>I didn’t buy thanks to you! Am checking it at ...</td>\n",
       "      <td>1</td>\n",
       "      <td>jungl3_junki3</td>\n",
       "      <td>1.618589e+09</td>\n",
       "      <td>NaN</td>\n",
       "    </tr>\n",
       "  </tbody>\n",
       "</table>\n",
       "<p>619646 rows × 6 columns</p>\n",
       "</div>"
      ],
      "text/plain": [
       "        sub_id                                               body  score  \\\n",
       "0       ls42x6                                              first      7   \n",
       "1       ls42x6                             Rise and shine bitches     41   \n",
       "2       ls42x6                                      Here we go. 🚀     14   \n",
       "3       ls42x6                                  GME to 420.69 EOD     14   \n",
       "4       ls42x6                                      Second retard      2   \n",
       "...        ...                                                ...    ...   \n",
       "619641  mqndra                          Fuck you spacemobile ASTS      1   \n",
       "619642  mqndra  :( I guess if we hit 15k midway through that’l...      1   \n",
       "619643  mqndra                          Oof. You buying yet!? Lol      1   \n",
       "619644  mqndra  I actually would, but I can't babysit it today...      1   \n",
       "619645  mqndra  I didn’t buy thanks to you! Am checking it at ...      1   \n",
       "\n",
       "                      author   created_utc  Unnamed: 0  \n",
       "0       I_make_switch_a_roos  1.614251e+09     13372.0  \n",
       "1                  LitenVarg  1.614251e+09       304.0  \n",
       "2         readingtostrangers  1.614251e+09       581.0  \n",
       "3                  wottsraja  1.614251e+09      8523.0  \n",
       "4                   AceSouth  1.614251e+09     13391.0  \n",
       "...                      ...           ...         ...  \n",
       "619641          fickdichdock  1.618587e+09         NaN  \n",
       "619642        BoughtreeFidee  1.618588e+09         NaN  \n",
       "619643         jungl3_junki3  1.618588e+09         NaN  \n",
       "619644               NrdRage  1.618589e+09         NaN  \n",
       "619645         jungl3_junki3  1.618589e+09         NaN  \n",
       "\n",
       "[619646 rows x 6 columns]"
      ]
     },
     "execution_count": 26,
     "metadata": {},
     "output_type": "execute_result"
    }
   ],
   "source": [
    "sorted_cleaned_dataset[['sub_id','created_utc','body', 'score', 'author']].to_csv(f'')"
   ]
  },
  {
   "cell_type": "code",
   "execution_count": 30,
   "metadata": {},
   "outputs": [],
   "source": [
    "sorted_cleaned_dataset[['sub_id','created_utc','body', 'score', 'author']].to_csv(f\"/Users/ameliachu/repos/nlu-reddit-toxicity-dataset/data/daily_master_data_{int(min_date)}_{int(max_date)}.csv\")"
   ]
  },
  {
   "cell_type": "code",
   "execution_count": null,
   "metadata": {},
   "outputs": [],
   "source": []
  }
 ],
 "metadata": {
  "kernelspec": {
   "display_name": "Python 3",
   "language": "python",
   "name": "python3"
  },
  "language_info": {
   "codemirror_mode": {
    "name": "ipython",
    "version": 3
   },
   "file_extension": ".py",
   "mimetype": "text/x-python",
   "name": "python",
   "nbconvert_exporter": "python",
   "pygments_lexer": "ipython3",
   "version": "3.8.3"
  }
 },
 "nbformat": 4,
 "nbformat_minor": 4
}
